{
 "cells": [
  {
   "cell_type": "code",
   "execution_count": null,
   "metadata": {},
   "outputs": [],
   "source": []
  }
 ],
 "metadata": {
  "kernelspec": {
   "display_name": "Python 3.7.0",
   "language": "python",
   "name": "python3"
  },
  "language_info": {
   "name": "python",
   "version": "3.7.0"
  },
  "orig_nbformat": 4,
  "vscode": {
   "interpreter": {
    "hash": "c6c9acf1d202e9ea0373c1ed4b3bf39e563f055ed167f2d778d1b5eab8cf4cef"
   }
  }
 },
 "nbformat": 4,
 "nbformat_minor": 2
}
